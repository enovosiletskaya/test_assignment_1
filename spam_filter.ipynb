{
 "cells": [
  {
   "cell_type": "code",
   "execution_count": 1,
   "id": "preliminary-occasion",
   "metadata": {},
   "outputs": [],
   "source": [
    "import string"
   ]
  },
  {
   "cell_type": "code",
   "execution_count": 2,
   "id": "pressed-floating",
   "metadata": {},
   "outputs": [],
   "source": [
    "#получаем знаки препинания и добавляем те, которых нет в библиотеке\n",
    "punc = string.punctuation+'—«»’' "
   ]
  },
  {
   "cell_type": "code",
   "execution_count": 3,
   "id": "conditional-footwear",
   "metadata": {},
   "outputs": [],
   "source": [
    "#функция, которая принимает на вход файл с письмами и возвращает файл без спам-писем \n",
    "def check_spam(input_file, output_file):\n",
    "    with open (input_file, 'r') as file:\n",
    "        #считываем файл построчно\n",
    "        for mail in file:\n",
    "            spam = False\n",
    "            #создаем список слов из письма без знаков препинания и прочих символов\n",
    "            words_list = mail\\\n",
    "                        .translate(str.maketrans('', '', punc))\\\n",
    "                        .replace('  ', ' ')\\\n",
    "                        .rstrip()\\\n",
    "                        .split(' ')\n",
    "            #проверяем состоит слово только из букв или только из цифр, если нет, то это слово - спам, прерываем цикл\n",
    "            for word in words_list:\n",
    "                if word.isalpha()==False and word.isnumeric()==False:\n",
    "                    spam = True\n",
    "                    break\n",
    "            #записываем письмо в файл, в котором нет спама\n",
    "            if spam == False:\n",
    "                with open(output_file, 'a') as file_out:\n",
    "                    file_out.write(mail)  "
   ]
  },
  {
   "cell_type": "code",
   "execution_count": 4,
   "id": "adverse-courage",
   "metadata": {},
   "outputs": [],
   "source": [
    "check_spam('mails.txt', 'checked_mails.txt')"
   ]
  }
 ],
 "metadata": {
  "kernelspec": {
   "display_name": "Python 3.7.9 64-bit ('Study': conda)",
   "language": "python",
   "name": "python379jvsc74a57bd0d63b19d986f1ff6931c934fc64b6e1e76623b48656e9d3243d69dc416608d9d3"
  },
  "language_info": {
   "codemirror_mode": {
    "name": "ipython",
    "version": 3
   },
   "file_extension": ".py",
   "mimetype": "text/x-python",
   "name": "python",
   "nbconvert_exporter": "python",
   "pygments_lexer": "ipython3",
   "version": "3.7.9"
  }
 },
 "nbformat": 4,
 "nbformat_minor": 5
}
