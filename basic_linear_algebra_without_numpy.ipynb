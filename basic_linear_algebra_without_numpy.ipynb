{
 "cells": [
  {
   "cell_type": "code",
   "execution_count": 1,
   "id": "medieval-sympathy",
   "metadata": {},
   "outputs": [],
   "source": [
    "import numpy as np"
   ]
  },
  {
   "cell_type": "code",
   "execution_count": 2,
   "id": "respective-paste",
   "metadata": {},
   "outputs": [],
   "source": [
    "#создание нулевой матрицы размера mxn\n",
    "def zeros(m, n):\n",
    "    zeros_matrix = []\n",
    "    for i in range(m):\n",
    "        string = []\n",
    "        for j in range(n):\n",
    "            string.append(0)\n",
    "        zeros_matrix.append(string) \n",
    "    return zeros_matrix   "
   ]
  },
  {
   "cell_type": "code",
   "execution_count": 3,
   "id": "internal-island",
   "metadata": {},
   "outputs": [],
   "source": [
    "A = [[1,2], [3,4], [5,6]]\n",
    "B = [[7,8], [9,10], [11,12]]\n",
    "c = 5"
   ]
  },
  {
   "cell_type": "markdown",
   "id": "attempted-cable",
   "metadata": {},
   "source": [
    "#### Сложение матриц"
   ]
  },
  {
   "cell_type": "code",
   "execution_count": 4,
   "id": "caroline-bottle",
   "metadata": {},
   "outputs": [],
   "source": [
    "def addition(A, B):\n",
    "    \n",
    "    rows_A, cols_A = len(A), len(A[0])  \n",
    "    rows_B, cols_B = len(B), len(B[0])\n",
    "    \n",
    "    if rows_A == rows_B and cols_A == cols_B:\n",
    "        C = zeros(rows_A, cols_A)\n",
    "        for i in range(rows_A):\n",
    "            for j in range(cols_A):\n",
    "                C[i][j] = A[i][j]+B[i][j]\n",
    "    else:\n",
    "        raise ValueError(\"Матрицы должны быть одной размерности\")\n",
    "    \n",
    "    return C"
   ]
  },
  {
   "cell_type": "code",
   "execution_count": 5,
   "id": "seeing-middle",
   "metadata": {},
   "outputs": [
    {
     "data": {
      "text/plain": [
       "[[8, 10], [12, 14], [16, 18]]"
      ]
     },
     "execution_count": 5,
     "metadata": {},
     "output_type": "execute_result"
    }
   ],
   "source": [
    "addition(A,B)"
   ]
  },
  {
   "cell_type": "markdown",
   "id": "synthetic-cutting",
   "metadata": {},
   "source": [
    "#### Вычитание матриц"
   ]
  },
  {
   "cell_type": "code",
   "execution_count": 6,
   "id": "confused-priest",
   "metadata": {},
   "outputs": [],
   "source": [
    "def substruction(A, B):\n",
    "    \n",
    "    rows_A, cols_A = len(A), len(A[0])  \n",
    "    rows_B, cols_B = len(B), len(B[0])\n",
    "    \n",
    "    if rows_A == rows_B and cols_A == cols_B:\n",
    "        C = zeros(rows_A, cols_A)\n",
    "        for i in range(rows_A):\n",
    "            for j in range(cols_A):\n",
    "                C[i][j] = A[i][j]-B[i][j]\n",
    "    else:\n",
    "        raise ValueError(\"Матрицы должны быть одной размерности\")\n",
    "    \n",
    "    return C"
   ]
  },
  {
   "cell_type": "code",
   "execution_count": 7,
   "id": "authorized-round",
   "metadata": {},
   "outputs": [
    {
     "data": {
      "text/plain": [
       "[[6, 6], [6, 6], [6, 6]]"
      ]
     },
     "execution_count": 7,
     "metadata": {},
     "output_type": "execute_result"
    }
   ],
   "source": [
    "substruction(B, A)"
   ]
  },
  {
   "cell_type": "markdown",
   "id": "later-director",
   "metadata": {},
   "source": [
    "#### Умножение матриц, умножение матрицы на число"
   ]
  },
  {
   "cell_type": "code",
   "execution_count": 8,
   "id": "qualified-water",
   "metadata": {},
   "outputs": [],
   "source": [
    "A = [[1,2], [3,4]]\n",
    "B = [[7,8], [9,10]]"
   ]
  },
  {
   "cell_type": "code",
   "execution_count": 9,
   "id": "endangered-cloud",
   "metadata": {},
   "outputs": [],
   "source": [
    "def multiply(A, B):\n",
    "            \n",
    "    rows_A, cols_A = len(A), len(A[0])  \n",
    "\n",
    "    if isinstance(A, list) and isinstance(B, list): \n",
    "        rows_B, cols_B = len(B), len(B[0])\n",
    "        if cols_A==rows_B:\n",
    "            C = zeros(rows_A, rows_B)\n",
    "            for i in range(rows_A):\n",
    "                for j in range(rows_B):\n",
    "                    C[i][j] = sum([A[i][k]*B[k][j] for k in range(cols_A)])\n",
    "        else:\n",
    "            raise ValueError(\"Число столбцов матрицы А должно быть равно числу строк матрицы В\")\n",
    "    else:\n",
    "        if (isinstance(A, list) and isinstance(B, int)):\n",
    "            C = zeros(rows_A, cols_A)\n",
    "            for i in range(rows_A):\n",
    "                for j in range(cols_A):\n",
    "                    C[i][j]=A[i][j]*B\n",
    "        else:\n",
    "            raise ValueError(\"Неправильный порядок аргументов\")\n",
    "       \n",
    "    return C"
   ]
  },
  {
   "cell_type": "code",
   "execution_count": 10,
   "id": "severe-dakota",
   "metadata": {},
   "outputs": [
    {
     "data": {
      "text/plain": [
       "[[25, 28], [57, 64]]"
      ]
     },
     "execution_count": 10,
     "metadata": {},
     "output_type": "execute_result"
    }
   ],
   "source": [
    "multiply(A, B)"
   ]
  },
  {
   "cell_type": "code",
   "execution_count": 11,
   "id": "temporal-karen",
   "metadata": {},
   "outputs": [
    {
     "data": {
      "text/plain": [
       "array([[25, 28],\n",
       "       [57, 64]])"
      ]
     },
     "execution_count": 11,
     "metadata": {},
     "output_type": "execute_result"
    }
   ],
   "source": [
    "np.dot(A, B)"
   ]
  },
  {
   "cell_type": "code",
   "execution_count": 12,
   "id": "amber-block",
   "metadata": {},
   "outputs": [
    {
     "data": {
      "text/plain": [
       "[[5, 10], [15, 20]]"
      ]
     },
     "execution_count": 12,
     "metadata": {},
     "output_type": "execute_result"
    }
   ],
   "source": [
    "multiply(A, c)"
   ]
  },
  {
   "cell_type": "code",
   "execution_count": 13,
   "id": "traditional-jimmy",
   "metadata": {},
   "outputs": [
    {
     "data": {
      "text/plain": [
       "array([[ 5, 10],\n",
       "       [15, 20]])"
      ]
     },
     "execution_count": 13,
     "metadata": {},
     "output_type": "execute_result"
    }
   ],
   "source": [
    "np.dot(A, c)"
   ]
  },
  {
   "cell_type": "markdown",
   "id": "fabulous-mechanism",
   "metadata": {},
   "source": [
    "#### Транспонирование"
   ]
  },
  {
   "cell_type": "code",
   "execution_count": 14,
   "id": "adapted-swift",
   "metadata": {},
   "outputs": [],
   "source": [
    "def transpose(matrix):\n",
    "    rows = len(matrix)\n",
    "    cols = len(matrix[0])\n",
    "    matrix_T = zeros(cols, rows)\n",
    "    for i in range(rows):\n",
    "        for j in range(cols):\n",
    "            matrix_T[j][i] = matrix[i][j]\n",
    "    return matrix_T"
   ]
  },
  {
   "cell_type": "code",
   "execution_count": 15,
   "id": "tired-thesaurus",
   "metadata": {},
   "outputs": [
    {
     "data": {
      "text/plain": [
       "[[1, 3], [2, 4]]"
      ]
     },
     "execution_count": 15,
     "metadata": {},
     "output_type": "execute_result"
    }
   ],
   "source": [
    "transpose(A)"
   ]
  },
  {
   "cell_type": "code",
   "execution_count": 16,
   "id": "renewable-killing",
   "metadata": {},
   "outputs": [
    {
     "data": {
      "text/plain": [
       "array([[1, 3],\n",
       "       [2, 4]])"
      ]
     },
     "execution_count": 16,
     "metadata": {},
     "output_type": "execute_result"
    }
   ],
   "source": [
    "np.transpose(A)"
   ]
  },
  {
   "cell_type": "markdown",
   "id": "classical-thomson",
   "metadata": {},
   "source": [
    "#### Определитель"
   ]
  },
  {
   "cell_type": "code",
   "execution_count": 17,
   "id": "iraqi-movie",
   "metadata": {},
   "outputs": [],
   "source": [
    "A = [[1, 2, 5, 6], [3, 4, 7, 8], [11, 16, 39, 9], [13, 19, 22, 9]]"
   ]
  },
  {
   "cell_type": "code",
   "execution_count": 18,
   "id": "bridal-consideration",
   "metadata": {},
   "outputs": [],
   "source": [
    "import copy"
   ]
  },
  {
   "cell_type": "code",
   "execution_count": 19,
   "id": "extensive-penetration",
   "metadata": {},
   "outputs": [],
   "source": [
    "def det(matrix):\n",
    "\n",
    "    matrix_copy = copy.deepcopy(matrix)\n",
    "    rows, cols  = len(matrix_copy),len(matrix_copy[0]) \n",
    "    det=1\n",
    "\n",
    "    if cols==rows:\n",
    "        for i in range(rows):\n",
    "            if matrix_copy[i][i] == 0.0:\n",
    "                raise ValueError(\"Деление на 0\")\n",
    "            for j in range(i+1, rows):\n",
    "                coef = matrix_copy[j][i]/matrix_copy[i][i]\n",
    "                for k in range(rows):\n",
    "                     matrix_copy[j][k] = matrix_copy[j][k] - coef * matrix_copy[i][k]\n",
    "        for i in range(rows):\n",
    "            det = det*matrix_copy[i][i]\n",
    "    else:\n",
    "        raise ValueError(\"Матрица должна быть квадратная\")\n",
    "    \n",
    "    return det"
   ]
  },
  {
   "cell_type": "code",
   "execution_count": 20,
   "id": "hollywood-bosnia",
   "metadata": {},
   "outputs": [
    {
     "data": {
      "text/plain": [
       "1354.0"
      ]
     },
     "execution_count": 20,
     "metadata": {},
     "output_type": "execute_result"
    }
   ],
   "source": [
    "det(A)"
   ]
  },
  {
   "cell_type": "code",
   "execution_count": 21,
   "id": "dress-ordinance",
   "metadata": {},
   "outputs": [
    {
     "data": {
      "text/plain": [
       "1354.0000000000002"
      ]
     },
     "execution_count": 21,
     "metadata": {},
     "output_type": "execute_result"
    }
   ],
   "source": [
    "np.linalg.det(A)"
   ]
  },
  {
   "cell_type": "markdown",
   "id": "completed-chick",
   "metadata": {},
   "source": [
    "#### Деление матриц (задача о делении матриц сводится к умножению матрицы А на обратную матрицу матрице В)"
   ]
  },
  {
   "cell_type": "code",
   "execution_count": 22,
   "id": "mobile-freeware",
   "metadata": {},
   "outputs": [],
   "source": [
    "A = [[1,2], [3,4]]\n",
    "B = [[7,8], [9,10]]"
   ]
  },
  {
   "cell_type": "code",
   "execution_count": 23,
   "id": "arranged-hormone",
   "metadata": {},
   "outputs": [],
   "source": [
    "#функция для получения обратной матрицы\n",
    "def inv(matrix):\n",
    "    if len(matrix) == len(matrix[0]):\n",
    "        determinant = det(matrix)\n",
    "        if determinant == 0:\n",
    "            raise ValueError(\"Детерминант равен 0, обратной матрицы не существует\")\n",
    "        rows = len(matrix)\n",
    "        minor_m =[]\n",
    "        minor_m = minor_matrix(matrix)\n",
    "        inv_m = transpose(minor_m)\n",
    "        for i in range(len(inv_m)):\n",
    "            for j in range(len(inv_m)):\n",
    "                inv_m[i][j] = inv_m[i][j]/determinant\n",
    "    else:\n",
    "        raise ValueError(\"Матрица должна быть квадратная\")\n",
    "    return inv_m"
   ]
  },
  {
   "cell_type": "code",
   "execution_count": 24,
   "id": "substantial-translator",
   "metadata": {},
   "outputs": [],
   "source": [
    "#функция возвращает матрицу миноров\n",
    "def minor_matrix(matrix):\n",
    "    minors = zeros(len(matrix), len(matrix))\n",
    "    for i in range(len(matrix)):\n",
    "        for j in range(len(matrix)):\n",
    "            matrix_copy = copy.deepcopy(matrix)\n",
    "            matrix_copy.pop(i)\n",
    "            for k in range(len(matrix[0]) - 1):\n",
    "                matrix_copy[k].pop(j)\n",
    "            minors[i][j] = ((-1)**(i+j))*det(matrix_copy)\n",
    "    return minors"
   ]
  },
  {
   "cell_type": "code",
   "execution_count": 25,
   "id": "enabling-builder",
   "metadata": {},
   "outputs": [],
   "source": [
    "def division(A, B):\n",
    "    return multiply(A, inv(B))"
   ]
  },
  {
   "cell_type": "code",
   "execution_count": 26,
   "id": "endangered-transcription",
   "metadata": {},
   "outputs": [
    {
     "data": {
      "text/plain": [
       "[[3.9999999999999902, -2.999999999999992],\n",
       " [2.999999999999993, -1.9999999999999947]]"
      ]
     },
     "execution_count": 26,
     "metadata": {},
     "output_type": "execute_result"
    }
   ],
   "source": [
    "division(A, B)"
   ]
  },
  {
   "cell_type": "code",
   "execution_count": 27,
   "id": "nearby-diving",
   "metadata": {},
   "outputs": [
    {
     "data": {
      "text/plain": [
       "array([[ 4., -3.],\n",
       "       [ 3., -2.]])"
      ]
     },
     "execution_count": 27,
     "metadata": {},
     "output_type": "execute_result"
    }
   ],
   "source": [
    "np.dot(A, np.linalg.inv(B))"
   ]
  }
 ],
 "metadata": {
  "kernelspec": {
   "display_name": "Python 3.7.9 64-bit ('Study': conda)",
   "language": "python",
   "name": "python37964bitstudycondaf78d48308280476d91dc2da3c95fe07a"
  },
  "language_info": {
   "codemirror_mode": {
    "name": "ipython",
    "version": 3
   },
   "file_extension": ".py",
   "mimetype": "text/x-python",
   "name": "python",
   "nbconvert_exporter": "python",
   "pygments_lexer": "ipython3",
   "version": "3.7.9"
  }
 },
 "nbformat": 4,
 "nbformat_minor": 5
}
